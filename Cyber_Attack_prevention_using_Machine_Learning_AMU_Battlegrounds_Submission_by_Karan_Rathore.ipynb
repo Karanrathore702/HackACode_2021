{
  "nbformat": 4,
  "nbformat_minor": 0,
  "metadata": {
    "colab": {
      "name": "Cyber_Attack_prevention_using_Machine_Learning_AMU_Battlegrounds_Submission_by_Karan_Rathore.ipynb",
      "provenance": [],
      "collapsed_sections": []
    },
    "kernelspec": {
      "display_name": "Python 3",
      "name": "python3"
    },
    "language_info": {
      "name": "python"
    }
  },
  "cells": [
    {
      "cell_type": "code",
      "metadata": {
        "id": "-AFCE8rP_w7o"
      },
      "source": [
        "import pandas as pd\n",
        "\n",
        "import numpy as np\n",
        "\n",
        "import matplotlib\n",
        "\n",
        "import matplotlib.pyplot as plt\n",
        "%matplotlib inline\n",
        "\n",
        "import seaborn as sns\n",
        "\n",
        "from collections import Counter"
      ],
      "execution_count": null,
      "outputs": []
    },
    {
      "cell_type": "code",
      "metadata": {
        "id": "g0GTqMIFlzdK"
      },
      "source": [
        "pd.set_option('display.max_rows', 5000)\n",
        "pd.set_option('display.max_columns', 5000)\n",
        "pd.set_option('display.width', 5000)"
      ],
      "execution_count": null,
      "outputs": []
    },
    {
      "cell_type": "code",
      "metadata": {
        "id": "JfnxbZqMlzgl",
        "colab": {
          "base_uri": "https://localhost:8080/"
        },
        "outputId": "e7470525-815b-4a8e-d71a-7000b85b57a3"
      },
      "source": [
        "from sklearn import datasets\n",
        "\n",
        "from sklearn.model_selection import train_test_split\n",
        "\n",
        "from sklearn.metrics import confusion_matrix\n",
        "\n",
        "from sklearn.metrics import classification_report\n",
        "\n",
        "import sklearn.metrics as metrics\n",
        "\n",
        "from sklearn.preprocessing import MinMaxScaler\n",
        "\n",
        "from sklearn.preprocessing import StandardScaler\n",
        "\n",
        "from sklearn import preprocessing\n",
        "\n",
        "le = preprocessing.LabelEncoder()\n",
        "\n",
        "from sklearn.metrics import precision_score\n",
        "\n",
        "from sklearn.metrics import f1_score\n",
        "\n",
        "from sklearn.metrics import recall_score\n",
        "\n",
        "from sklearn.externals import joblib\n",
        "\n",
        "from sklearn.tree import export_graphviz"
      ],
      "execution_count": null,
      "outputs": [
        {
          "output_type": "stream",
          "text": [
            "/usr/local/lib/python3.7/dist-packages/sklearn/externals/joblib/__init__.py:15: FutureWarning: sklearn.externals.joblib is deprecated in 0.21 and will be removed in 0.23. Please import this functionality directly from joblib, which can be installed with: pip install joblib. If this warning is raised when loading pickled models, you may need to re-serialize those models with scikit-learn 0.21+.\n",
            "  warnings.warn(msg, category=FutureWarning)\n"
          ],
          "name": "stderr"
        }
      ]
    },
    {
      "cell_type": "code",
      "metadata": {
        "id": "A7sA1J2Imfih"
      },
      "source": [
        "from sklearn.ensemble import RandomForestClassifier\n",
        "\n",
        "from sklearn.datasets import make_classification\n",
        "\n",
        "from sklearn.ensemble import BaggingClassifier\n",
        "\n",
        "from sklearn.ensemble import AdaBoostClassifier\n",
        "\n",
        "from sklearn.ensemble import GradientBoostingClassifier"
      ],
      "execution_count": null,
      "outputs": []
    },
    {
      "cell_type": "code",
      "metadata": {
        "id": "pkEqRFe_tYv6"
      },
      "source": [
        "# The dataset has been reduced and reshaped to the following dataset below for optimal machine learning model performances \n",
        "\n",
        "# Link to the original dataset - https://www.unb.ca/cic/datasets/ids-2017.html"
      ],
      "execution_count": null,
      "outputs": []
    },
    {
      "cell_type": "code",
      "metadata": {
        "id": "J6MpBj49lzjP"
      },
      "source": [
        "filepath0 = \"/content/drive/MyDrive/Excel_file_created/main_88000.csv\""
      ],
      "execution_count": null,
      "outputs": []
    },
    {
      "cell_type": "code",
      "metadata": {
        "id": "mfEPruXJlzli"
      },
      "source": [
        "data0 = pd.read_csv(filepath0)"
      ],
      "execution_count": null,
      "outputs": []
    },
    {
      "cell_type": "code",
      "metadata": {
        "id": "SJ-kZ54Olzn4"
      },
      "source": [
        "frame = data0"
      ],
      "execution_count": null,
      "outputs": []
    },
    {
      "cell_type": "code",
      "metadata": {
        "id": "Sroz-4uxlzqE"
      },
      "source": [
        "X = frame.drop([\" Label\"],axis=1)\n",
        "Y = frame[\" Label\"]"
      ],
      "execution_count": null,
      "outputs": []
    },
    {
      "cell_type": "code",
      "metadata": {
        "colab": {
          "base_uri": "https://localhost:8080/"
        },
        "id": "7aifVLdflzr2",
        "outputId": "a31f05a8-3a1b-4a42-b309-dde6ff66877e"
      },
      "source": [
        "counter = Counter(Y)\n",
        "\n",
        "for a, b in counter.items():\n",
        "  dist = b/len(Y) * 100\n",
        "  # print (f\"Label={a},\\t\\t\\t\\t n={b} ({dist}%)\")\n",
        "  print (f\"n={b} ({dist:.3f}%), \\t Label={a}\")"
      ],
      "execution_count": null,
      "outputs": [
        {
          "output_type": "stream",
          "text": [
            "n=30000 (34.091%), \t Label=BENIGN\n",
            "n=19500 (22.159%), \t Label=DDoS/Dos\n",
            "n=15000 (17.045%), \t Label=PortScan\n",
            "n=8000 (9.091%), \t Label=Brute Force\n",
            "n=4000 (4.545%), \t Label=Bot\n",
            "n=7500 (8.523%), \t Label=Web Attacks\n",
            "n=4000 (4.545%), \t Label=Infiltration\n"
          ],
          "name": "stdout"
        }
      ]
    },
    {
      "cell_type": "code",
      "metadata": {
        "id": "NYMYeF01lztp"
      },
      "source": [
        "scaler = StandardScaler()"
      ],
      "execution_count": null,
      "outputs": []
    },
    {
      "cell_type": "code",
      "metadata": {
        "id": "6p1j5qo2lzvn"
      },
      "source": [
        "columns = X.columns"
      ],
      "execution_count": null,
      "outputs": []
    },
    {
      "cell_type": "code",
      "metadata": {
        "id": "TeR1S-VAmUiF"
      },
      "source": [
        "X_std = scaler.fit_transform(X)"
      ],
      "execution_count": null,
      "outputs": []
    },
    {
      "cell_type": "code",
      "metadata": {
        "id": "t--2yXuNmUlS"
      },
      "source": [
        "X_std = pd.DataFrame(X_std, columns = columns)"
      ],
      "execution_count": null,
      "outputs": []
    },
    {
      "cell_type": "code",
      "metadata": {
        "id": "0IkpvUL5mUnw"
      },
      "source": [
        "# Splitting Data into training and testing dataset\n",
        "\n",
        "X_train, X_test, y_train, y_test = train_test_split(X_std, Y, test_size=0.3, random_state=101)"
      ],
      "execution_count": null,
      "outputs": []
    },
    {
      "cell_type": "code",
      "metadata": {
        "colab": {
          "base_uri": "https://localhost:8080/"
        },
        "id": "EoAKVrzLmUqK",
        "outputId": "b7438af9-26c2-4221-e430-b0b8554f74a3"
      },
      "source": [
        "X_train.shape, X_test.shape, y_train.shape, y_test.shape"
      ],
      "execution_count": null,
      "outputs": [
        {
          "output_type": "execute_result",
          "data": {
            "text/plain": [
              "((61600, 36), (26400, 36), (61600,), (26400,))"
            ]
          },
          "metadata": {
            "tags": []
          },
          "execution_count": 15
        }
      ]
    },
    {
      "cell_type": "code",
      "metadata": {
        "id": "naq6UqgLmUsh"
      },
      "source": [
        "rf = RandomForestClassifier(max_depth=5, random_state=0)\n",
        "# 6 "
      ],
      "execution_count": null,
      "outputs": []
    },
    {
      "cell_type": "code",
      "metadata": {
        "id": "V7IY937amUum",
        "colab": {
          "base_uri": "https://localhost:8080/"
        },
        "outputId": "1daa774d-de36-433f-e01e-27e6035de967"
      },
      "source": [
        "rf.fit(X_train, y_train)"
      ],
      "execution_count": null,
      "outputs": [
        {
          "output_type": "execute_result",
          "data": {
            "text/plain": [
              "RandomForestClassifier(bootstrap=True, ccp_alpha=0.0, class_weight=None,\n",
              "                       criterion='gini', max_depth=5, max_features='auto',\n",
              "                       max_leaf_nodes=None, max_samples=None,\n",
              "                       min_impurity_decrease=0.0, min_impurity_split=None,\n",
              "                       min_samples_leaf=1, min_samples_split=2,\n",
              "                       min_weight_fraction_leaf=0.0, n_estimators=100,\n",
              "                       n_jobs=None, oob_score=False, random_state=0, verbose=0,\n",
              "                       warm_start=False)"
            ]
          },
          "metadata": {
            "tags": []
          },
          "execution_count": 17
        }
      ]
    },
    {
      "cell_type": "code",
      "metadata": {
        "id": "045uHAwCmUxG"
      },
      "source": [
        "rf_predictions = rf.predict(X_test)"
      ],
      "execution_count": null,
      "outputs": []
    },
    {
      "cell_type": "code",
      "metadata": {
        "id": "DiYQZXTwmUzQ",
        "colab": {
          "base_uri": "https://localhost:8080/"
        },
        "outputId": "84d7c849-8552-44c3-8c0f-f5d902806391"
      },
      "source": [
        "rf_predictions"
      ],
      "execution_count": null,
      "outputs": [
        {
          "output_type": "execute_result",
          "data": {
            "text/plain": [
              "array(['Brute Force', 'BENIGN', 'PortScan', ..., 'BENIGN', 'DDoS/Dos',\n",
              "       'PortScan'], dtype=object)"
            ]
          },
          "metadata": {
            "tags": []
          },
          "execution_count": 19
        }
      ]
    },
    {
      "cell_type": "code",
      "metadata": {
        "id": "8Ooxh72cmU16",
        "colab": {
          "base_uri": "https://localhost:8080/"
        },
        "outputId": "81ab034f-1a1e-4b54-c02b-52faedc9cd8f"
      },
      "source": [
        "print(confusion_matrix(y_test, rf_predictions))"
      ],
      "execution_count": null,
      "outputs": [
        {
          "output_type": "stream",
          "text": [
            "[[8994    0    0    0    0    0    0]\n",
            " [   0 1242    0    0    0    0    1]\n",
            " [   0    0 2406    0    0    0    0]\n",
            " [   1    1    0 5905    0    0    0]\n",
            " [   0    0    0    0 1167    0    0]\n",
            " [   0    0    0   17    0 4442    0]\n",
            " [   0    0    0    5    0    0 2219]]\n"
          ],
          "name": "stdout"
        }
      ]
    },
    {
      "cell_type": "code",
      "metadata": {
        "id": "koL1Dpa6mU3z",
        "colab": {
          "base_uri": "https://localhost:8080/"
        },
        "outputId": "27fe57af-e72d-49ae-f5dc-3c206dd36ad3"
      },
      "source": [
        "print(classification_report(y_test, rf_predictions))"
      ],
      "execution_count": null,
      "outputs": [
        {
          "output_type": "stream",
          "text": [
            "              precision    recall  f1-score   support\n",
            "\n",
            "      BENIGN       1.00      1.00      1.00      8994\n",
            "         Bot       1.00      1.00      1.00      1243\n",
            " Brute Force       1.00      1.00      1.00      2406\n",
            "    DDoS/Dos       1.00      1.00      1.00      5907\n",
            "Infiltration       1.00      1.00      1.00      1167\n",
            "    PortScan       1.00      1.00      1.00      4459\n",
            " Web Attacks       1.00      1.00      1.00      2224\n",
            "\n",
            "    accuracy                           1.00     26400\n",
            "   macro avg       1.00      1.00      1.00     26400\n",
            "weighted avg       1.00      1.00      1.00     26400\n",
            "\n"
          ],
          "name": "stdout"
        }
      ]
    },
    {
      "cell_type": "code",
      "metadata": {
        "colab": {
          "base_uri": "https://localhost:8080/"
        },
        "id": "YuU2NMfgepNU",
        "outputId": "60772f7e-b57f-443d-d31a-6b1c59c4f6d9"
      },
      "source": [
        "rf.score(X_test, y_test)"
      ],
      "execution_count": null,
      "outputs": [
        {
          "output_type": "execute_result",
          "data": {
            "text/plain": [
              "0.9990530303030303"
            ]
          },
          "metadata": {
            "tags": []
          },
          "execution_count": 22
        }
      ]
    },
    {
      "cell_type": "code",
      "metadata": {
        "id": "wX3jZJTkwoGt"
      },
      "source": [
        "# Bagging\n",
        "\n",
        "# bg = BaggingClassifier(RandomForestClassifier(), max_samples=0.5, max_features = 1.0, n_estimators=20)\n",
        "# bg.fit(X_train, y_train)"
      ],
      "execution_count": null,
      "outputs": []
    },
    {
      "cell_type": "code",
      "metadata": {
        "id": "7LxzZFbOwoJf"
      },
      "source": [
        "# bg.score(X_test, y_test)"
      ],
      "execution_count": null,
      "outputs": []
    },
    {
      "cell_type": "code",
      "metadata": {
        "id": "5-sIqTS4h6jp"
      },
      "source": [
        "# bg_predictions = bg.predict(X_test)\n",
        "# print(classification_report(y_test, bg_predictions))\n",
        "# print(confusion_matrix(y_test, bg_predictions))"
      ],
      "execution_count": null,
      "outputs": []
    },
    {
      "cell_type": "code",
      "metadata": {
        "colab": {
          "base_uri": "https://localhost:8080/"
        },
        "id": "y8MxmIkHwoci",
        "outputId": "24bbec0d-ed0b-4dcd-daf1-3eec19ed59c2"
      },
      "source": [
        "# Boosting\n",
        "\n",
        "boostin = AdaBoostClassifier(RandomForestClassifier(), n_estimators=5, learning_rate = 1)\n",
        "# boostin = GradientBoostingClassifier(RandomForestClassifier(), n_estimators=5 )\n",
        "boostin.fit(X_train, y_train)"
      ],
      "execution_count": null,
      "outputs": [
        {
          "output_type": "execute_result",
          "data": {
            "text/plain": [
              "AdaBoostClassifier(algorithm='SAMME.R',\n",
              "                   base_estimator=RandomForestClassifier(bootstrap=True,\n",
              "                                                         ccp_alpha=0.0,\n",
              "                                                         class_weight=None,\n",
              "                                                         criterion='gini',\n",
              "                                                         max_depth=None,\n",
              "                                                         max_features='auto',\n",
              "                                                         max_leaf_nodes=None,\n",
              "                                                         max_samples=None,\n",
              "                                                         min_impurity_decrease=0.0,\n",
              "                                                         min_impurity_split=None,\n",
              "                                                         min_samples_leaf=1,\n",
              "                                                         min_samples_split=2,\n",
              "                                                         min_weight_fraction_leaf=0.0,\n",
              "                                                         n_estimators=100,\n",
              "                                                         n_jobs=None,\n",
              "                                                         oob_score=False,\n",
              "                                                         random_state=None,\n",
              "                                                         verbose=0,\n",
              "                                                         warm_start=False),\n",
              "                   learning_rate=1, n_estimators=5, random_state=None)"
            ]
          },
          "metadata": {
            "tags": []
          },
          "execution_count": 27
        }
      ]
    },
    {
      "cell_type": "code",
      "metadata": {
        "id": "W2TJIE2zf1Uu"
      },
      "source": [
        "boostin.score(X_test, y_test)"
      ],
      "execution_count": null,
      "outputs": []
    },
    {
      "cell_type": "code",
      "metadata": {
        "id": "9LA7pAHrhu7R"
      },
      "source": [
        "boostin_predictions = boostin.predict(X_test)\n",
        "print(classification_report(y_test, rf_predictions))"
      ],
      "execution_count": null,
      "outputs": []
    }
  ]
}